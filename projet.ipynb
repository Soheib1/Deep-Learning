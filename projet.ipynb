{
  "cells": [
    {
      "cell_type": "code",
      "execution_count": 1,
      "metadata": {
        "id": "BFGOxet5F1ZR"
      },
      "outputs": [],
      "source": [
        "import matplotlib.pyplot as plt\n",
        "from scipy.linalg import sqrtm\n",
        "import numpy as np\n",
        "import torch\n",
        "import torch.nn as nn\n",
        "import torch.nn.functional as F\n",
        "from torch.amp import GradScaler, autocast\n",
        "from torchvision.models import inception_v3\n",
        "#from data import load_dataset_and_make_dataloaders\n",
        "from torch.utils.data import DataLoader, TensorDataset\n",
        "from tqdm import tqdm"
      ]
    },
    {
      "cell_type": "code",
      "execution_count": 2,
      "metadata": {
        "id": "dWzb3jMAF1ZT"
      },
      "outputs": [],
      "source": [
        "from collections import namedtuple\n",
        "from typing import Optional, Tuple\n",
        "\n",
        "from torch.utils.data import default_collate, DataLoader, Dataset, random_split\n",
        "from torchvision.datasets import CelebA, FashionMNIST\n",
        "import torchvision.transforms as T\n",
        "\n",
        "\n",
        "DataInfo = namedtuple('DataInfo', 'image_channels image_size num_classes sigma_data')\n",
        "DataLoaders = namedtuple('DataLoaders', 'train valid')\n",
        "\n",
        "\n",
        "def load_dataset_and_make_dataloaders(\n",
        "        dataset_name: str,\n",
        "        root_dir: str,\n",
        "        batch_size: int,\n",
        "        num_workers: int = 0,\n",
        "        pin_memory: bool = False\n",
        "    ) -> Tuple[DataLoaders, DataInfo]:\n",
        "\n",
        "    train_dataset, valid_dataset, data_info = load_dataset(dataset_name, root_dir)\n",
        "    dl = make_dataloaders(train_dataset, valid_dataset, data_info.num_classes, batch_size, num_workers, pin_memory)\n",
        "    return dl, data_info\n",
        "\n",
        "\n",
        "def load_dataset(dataset_name='FashionMNIST', root_dir='data') -> Tuple[Dataset, Dataset, DataInfo]:\n",
        "\n",
        "    match dataset_name:\n",
        "\n",
        "        case 'FashionMNIST':\n",
        "            t = T.Compose([T.ToTensor(), T.Pad(2), T.Normalize(mean=(0.5,), std=(0.5,))])\n",
        "            train_dataset = FashionMNIST(root_dir, download=True, transform=t)\n",
        "            train_dataset, valid_dataset = random_split(train_dataset, [50000, 10000])\n",
        "            #train_dataset, valid_dataset = random_split(train_dataset, [500, 59500])\n",
        "            num_classes = 10\n",
        "\n",
        "        case 'CelebA':\n",
        "            t = T.Compose([T.ToTensor(), T.CenterCrop(178), T.Resize(128, antialias=True), T.Normalize(mean=(0.5,), std=(0.5,))])\n",
        "            train_dataset = CelebA(root_dir, download=True, transform=t)\n",
        "            train_dataset, valid_dataset = random_split(train_dataset, [150000, 12770])\n",
        "            num_classes = None\n",
        "\n",
        "        case other:\n",
        "            raise RuntimeError('Unknown dataset: ' + other)\n",
        "\n",
        "    #x, _ = next(iter(DataLoader(train_dataset, batch_size=100, shuffle=True)))\n",
        "    x, _ = next(iter(DataLoader(train_dataset, batch_size=10000, shuffle=True)))\n",
        "    _, c, h, w = x.size()\n",
        "    assert h == w\n",
        "    sigma_data = x.std()\n",
        "\n",
        "    return train_dataset, valid_dataset, DataInfo(c, h, num_classes, sigma_data)\n",
        "\n",
        "\n",
        "def make_dataloaders(\n",
        "        train_dataset: Dataset,\n",
        "        valid_dataset: Dataset,\n",
        "        num_classes: Optional[int],\n",
        "        batch_size: int,\n",
        "        num_workers: int = 0,\n",
        "        pin_memory: bool = False\n",
        "    ) -> DataLoaders:\n",
        "\n",
        "    collate_fn = default_collate if num_classes is not None else lambda batch: (default_collate(batch)[0], None)\n",
        "    kwargs = {'collate_fn': collate_fn, 'num_workers': num_workers, 'persistent_workers': (num_workers > 0), 'pin_memory': pin_memory}\n",
        "\n",
        "    return DataLoaders(\n",
        "        train=DataLoader(train_dataset, batch_size=batch_size, shuffle=True, **kwargs),\n",
        "        valid=DataLoader(valid_dataset, batch_size=2 * batch_size, **kwargs)\n",
        "    )\n"
      ]
    },
    {
      "cell_type": "code",
      "execution_count": 3,
      "metadata": {
        "id": "h8_zU9ASF1ZU"
      },
      "outputs": [],
      "source": [
        "class Model(nn.Module):\n",
        "    def __init__(\n",
        "        self,\n",
        "        image_channels: int,\n",
        "        nb_channels: int,\n",
        "        num_blocks: int,\n",
        "        cond_channels: int,\n",
        "    ) -> None:\n",
        "        super().__init__()\n",
        "        self.noise_emb = NoiseEmbedding(cond_channels)\n",
        "        self.conv_in = nn.Conv2d(image_channels, nb_channels, kernel_size=3, padding=1)\n",
        "        self.blocks = nn.ModuleList([\n",
        "            ResidualBlock(nb_channels, cond_channels) for _ in range(num_blocks)\n",
        "        ])\n",
        "        self.conv_out = nn.Conv2d(nb_channels, image_channels, kernel_size=3, padding=1)\n",
        "\n",
        "        # Apply custom initialization\n",
        "        self._initialize_weights()\n",
        "\n",
        "    def forward(self, noisy_input: torch.Tensor, c_noise: torch.Tensor) -> torch.Tensor:\n",
        "        # Generate noise embedding\n",
        "        cond = self.noise_emb(c_noise)  # [batch_size, cond_channels]\n",
        "\n",
        "        # Pass through input convolution\n",
        "        x = self.conv_in(noisy_input)\n",
        "\n",
        "        # Pass through residual blocks with noise conditioning\n",
        "        for block in self.blocks:\n",
        "            x = block(x, cond)\n",
        "\n",
        "        # Output convolution to return the denoised image\n",
        "        return self.conv_out(x)\n",
        "\n",
        "    def _initialize_weights(self):\n",
        "        \"\"\"Custom weight initialization.\"\"\"\n",
        "        # Initialize conv_out weights to 0\n",
        "        nn.init.constant_(self.conv_out.weight, 0)\n",
        "        if self.conv_out.bias is not None:\n",
        "            nn.init.constant_(self.conv_out.bias, 0)\n",
        "\n",
        "\n",
        "\n",
        "\n",
        "class NoiseEmbedding(nn.Module):\n",
        "    \"\"\"\n",
        "    The NoiseEmbedding module generates a sinusoidal embedding for a given noise level.\n",
        "    It takes a 1D tensor representing the noise level and produces a 2D tensor with\n",
        "    concatenated cosine and sine values of the noise level scaled by a learned weight.\n",
        "\n",
        "    This embedding can be used to condition the model on different noise levels, which\n",
        "    is useful in tasks such as denoising or generative modeling where the noise level\n",
        "    plays a significant role.\n",
        "    \"\"\"\n",
        "    def __init__(self, cond_channels: int) -> None:\n",
        "        super().__init__()\n",
        "        assert cond_channels % 2 == 0\n",
        "        self.register_buffer('weight', torch.randn(1, cond_channels // 2))\n",
        "\n",
        "    def forward(self, input: torch.Tensor) -> torch.Tensor:\n",
        "        assert input.ndim == 1\n",
        "        f = 2 * torch.pi * input.unsqueeze(1) @ self.weight\n",
        "        return torch.cat([f.cos(), f.sin()], dim=-1)\n",
        "\n",
        "\n",
        "class ResidualBlock(nn.Module):\n",
        "    def __init__(self, nb_channels: int, cond_channels: int):\n",
        "        super().__init__()\n",
        "        self.norm1 = nn.BatchNorm2d(nb_channels, affine=False)\n",
        "        self.conv1 = nn.Conv2d(nb_channels, nb_channels, kernel_size=3, stride=1, padding=1)\n",
        "        self.norm2 = nn.BatchNorm2d(nb_channels, affine=False)\n",
        "        self.conv2 = nn.Conv2d(nb_channels, nb_channels, kernel_size=3, stride=1, padding=1)\n",
        "\n",
        "        # Predict affine parameters\n",
        "        self.gamma1 = nn.Linear(cond_channels, nb_channels)\n",
        "        self.beta1 = nn.Linear(cond_channels, nb_channels)\n",
        "        self.gamma2 = nn.Linear(cond_channels, nb_channels)\n",
        "        self.beta2 = nn.Linear(cond_channels, nb_channels)\n",
        "\n",
        "        # Apply custom initialization\n",
        "        self._initialize_weights()\n",
        "\n",
        "    def forward(self, x, cond):\n",
        "        gamma1 = self.gamma1(cond).unsqueeze(-1).unsqueeze(-1)\n",
        "        beta1 = self.beta1(cond).unsqueeze(-1).unsqueeze(-1)\n",
        "        y = self.norm1(x)\n",
        "        y = gamma1 * y + beta1\n",
        "        y = F.leaky_relu(self.conv1(y), negative_slope=0.2)\n",
        "\n",
        "        gamma2 = self.gamma2(cond).unsqueeze(-1).unsqueeze(-1)\n",
        "        beta2 = self.beta2(cond).unsqueeze(-1).unsqueeze(-1)\n",
        "        y = self.norm2(y)\n",
        "        y = gamma2 * y + beta2\n",
        "        y = F.leaky_relu(self.conv2(y), negative_slope=0.2)\n",
        "\n",
        "        return x + y\n",
        "\n",
        "    def _initialize_weights(self):\n",
        "        \"\"\"Custom weight initialization.\"\"\"\n",
        "        # Initialize conv2 weights to 0\n",
        "        nn.init.constant_(self.conv2.weight, 0)\n",
        "        if self.conv2.bias is not None:\n",
        "            nn.init.constant_(self.conv2.bias, 0)\n",
        "\n",
        "\n"
      ]
    },
    {
      "cell_type": "code",
      "execution_count": 4,
      "metadata": {
        "id": "c3q3lAZdF1ZV"
      },
      "outputs": [],
      "source": [
        "\n",
        "#Step 1.0: Sample an image y from the dataset:\n",
        "gpu = torch.cuda.is_available()\n",
        "device = torch.device('cuda:0' if gpu else 'cpu')\n",
        "\n",
        "dl, info = load_dataset_and_make_dataloaders(\n",
        "    dataset_name='FashionMNIST',\n",
        "    root_dir='data', # choose the directory to store the data\n",
        "    batch_size=256,\n",
        "    num_workers=2,   # you can use more workers if you see the GPU is waiting for the batches\n",
        "    pin_memory=True,  # use pin memory if you're planning to move the data to GPU\n",
        ")\n",
        "sigma_data = info.sigma_data.to(device)  # Move sigma_data to GPU\n",
        "train_dl = dl.train\n",
        "test_dl = dl.valid\n",
        "#Step 1.1: Sample sigma from pnoise\n",
        "def sample_sigma(n, loc=-1.2, scale=1.2, sigma_min=2e-3, sigma_max=80):\n",
        "    return (torch.randn(n, device=device) * scale + loc).exp().clamp(sigma_min, sigma_max)\n",
        "\n",
        "\n",
        "#Step 1.2: Add noise\n",
        "def add_noise_to_image(image, sigma, p_noise_mean=0, p_noise_std=1):\n",
        "    epsilon = torch.randn(image.shape, device=image.device) * p_noise_std + p_noise_mean\n",
        "    noisy_image = image + sigma.view(-1, 1, 1, 1) * epsilon  # Ensure sigma is correctly broadcasted\n",
        "    noisy_image = torch.clamp(noisy_image, -1, 1)  # Clamp to [-1, 1] to match normalization\n",
        "    return noisy_image\n",
        "\n",
        "\n",
        "#Step 1.3: Compute coefficients\n",
        "def c_in(sigma):\n",
        "    return 1/(torch.sqrt(sigma_data**2 + sigma**2))\n",
        "\n",
        "def c_out(sigma):\n",
        "    return sigma*sigma_data/(torch.sqrt(sigma_data**2 + sigma**2))\n",
        "\n",
        "def c_skip(sigma):\n",
        "    return sigma_data**2/(sigma_data**2 + sigma**2)\n",
        "\n",
        "def c_noise(sigma):\n",
        "    return torch.log(sigma)/4\n",
        "\"\"\"\n",
        "train_target = []\n",
        "sigma_batch = []\n",
        "noisy_train_input = []\n",
        "s = True\n",
        "for images, _ in train_dl:\n",
        "    images = images.to(device)  # Move images to GPU\n",
        "    if s:\n",
        "        batch_siz = images.shape[0]\n",
        "        s = False\n",
        "    #For each batch, a different sigma\n",
        "    sigma = sample_sigma(1).to(device)  # Ensure sigma is on GPU\n",
        "    sigma_batch.append(sigma)\n",
        "    for sub_image in images:\n",
        "        noised_image = add_noise_to_image(sub_image, sigma)\n",
        "        noisy_train_input.append(noised_image * c_in(sigma))\n",
        "        train_target.append((sub_image - c_skip(sigma) * noised_image) / c_out(sigma))\n",
        "\n",
        "noisy_train_input = torch.stack(noisy_train_input).float().to(device)  # Move to GPU\n",
        "train_target = torch.stack(train_target).float().to(device)  # Move to GPU\n",
        "sigma_batch = torch.stack(sigma_batch).float().to(device)  # Move to GPU\n",
        "c_noise_list = c_noise(sigma_batch).to(device)  # Move to GPU\n",
        "\n",
        "train_dataset = TensorDataset(noisy_train_input, train_target)\n",
        "train_loader = DataLoader(train_dataset, batch_size=batch_siz, shuffle=False)\n",
        "\"\"\"\n",
        "noisy_test_input = []\n",
        "for images, _ in test_dl:\n",
        "    images = images.to(device)  # Move images to GPU\n",
        "    for sub_image in images:\n",
        "        #For each image, a different sigma, not storing the sigma this time\n",
        "        sigma = sample_sigma(1).to(device)  # Ensure sigma is on GPU\n",
        "        noised_image = add_noise_to_image(sub_image, sigma)\n",
        "        noisy_test_input.append(noised_image)\n",
        "noisy_test_input = torch.stack(noisy_test_input).float().to(device)  # Move to GPU\n"
      ]
    },
    {
      "cell_type": "code",
      "execution_count": 5,
      "metadata": {
        "colab": {
          "base_uri": "https://localhost:8080/"
        },
        "id": "itjV5_UKF1ZV",
        "outputId": "6fd6facb-7ad6-44e6-fe3d-3c1f2371c6d5"
      },
      "outputs": [
        {
          "metadata": {
            "tags": null
          },
          "name": "stderr",
          "output_type": "stream",
          "text": [
            "Training:   2%|▏         | 1/50 [01:26<1:10:35, 86.44s/it]"
          ]
        },
        {
          "metadata": {
            "tags": null
          },
          "name": "stdout",
          "output_type": "stream",
          "text": [
            "Epoch [1/50], Training Loss: 13.2997, Validation Loss: 0.4792\n"
          ]
        },
        {
          "metadata": {
            "tags": null
          },
          "name": "stderr",
          "output_type": "stream",
          "text": [
            "\rTraining:   4%|▍         | 2/50 [02:51<1:08:18, 85.39s/it]"
          ]
        },
        {
          "metadata": {
            "tags": null
          },
          "name": "stdout",
          "output_type": "stream",
          "text": [
            "Epoch [2/50], Training Loss: 0.4529, Validation Loss: 0.4312\n"
          ]
        },
        {
          "metadata": {
            "tags": null
          },
          "name": "stderr",
          "output_type": "stream",
          "text": [
            "\rTraining:   6%|▌         | 3/50 [04:15<1:06:31, 84.92s/it]"
          ]
        },
        {
          "metadata": {
            "tags": null
          },
          "name": "stdout",
          "output_type": "stream",
          "text": [
            "Epoch [3/50], Training Loss: 0.4143, Validation Loss: 0.3903\n"
          ]
        },
        {
          "metadata": {
            "tags": null
          },
          "name": "stderr",
          "output_type": "stream",
          "text": [
            "\rTraining:   8%|▊         | 4/50 [05:39<1:04:54, 84.66s/it]"
          ]
        },
        {
          "metadata": {
            "tags": null
          },
          "name": "stdout",
          "output_type": "stream",
          "text": [
            "Epoch [4/50], Training Loss: 0.3594, Validation Loss: 0.3378\n"
          ]
        },
        {
          "metadata": {
            "tags": null
          },
          "name": "stderr",
          "output_type": "stream",
          "text": [
            "\rTraining:  10%|█         | 5/50 [07:04<1:03:28, 84.63s/it]"
          ]
        },
        {
          "metadata": {
            "tags": null
          },
          "name": "stdout",
          "output_type": "stream",
          "text": [
            "Epoch [5/50], Training Loss: 0.3136, Validation Loss: 0.2933\n"
          ]
        },
        {
          "metadata": {
            "tags": null
          },
          "name": "stderr",
          "output_type": "stream",
          "text": [
            "\rTraining:  12%|█▏        | 6/50 [08:28<1:01:58, 84.52s/it]"
          ]
        },
        {
          "metadata": {
            "tags": null
          },
          "name": "stdout",
          "output_type": "stream",
          "text": [
            "Epoch [6/50], Training Loss: 0.2741, Validation Loss: 0.2667\n"
          ]
        },
        {
          "metadata": {
            "tags": null
          },
          "name": "stderr",
          "output_type": "stream",
          "text": [
            "\rTraining:  14%|█▍        | 7/50 [09:52<1:00:32, 84.47s/it]"
          ]
        },
        {
          "metadata": {
            "tags": null
          },
          "name": "stdout",
          "output_type": "stream",
          "text": [
            "Epoch [7/50], Training Loss: 0.2531, Validation Loss: 0.2433\n"
          ]
        },
        {
          "metadata": {
            "tags": null
          },
          "name": "stderr",
          "output_type": "stream",
          "text": [
            "\rTraining:  16%|█▌        | 8/50 [11:17<59:09, 84.50s/it]  "
          ]
        },
        {
          "metadata": {
            "tags": null
          },
          "name": "stdout",
          "output_type": "stream",
          "text": [
            "Epoch [8/50], Training Loss: 0.2400, Validation Loss: 0.2636\n"
          ]
        },
        {
          "metadata": {
            "tags": null
          },
          "name": "stderr",
          "output_type": "stream",
          "text": [
            "\rTraining:  18%|█▊        | 9/50 [12:41<57:42, 84.46s/it]"
          ]
        },
        {
          "metadata": {
            "tags": null
          },
          "name": "stdout",
          "output_type": "stream",
          "text": [
            "Epoch [9/50], Training Loss: 0.2296, Validation Loss: 0.2261\n"
          ]
        },
        {
          "metadata": {
            "tags": null
          },
          "name": "stderr",
          "output_type": "stream",
          "text": [
            "\rTraining:  20%|██        | 10/50 [14:06<56:19, 84.48s/it]"
          ]
        },
        {
          "metadata": {
            "tags": null
          },
          "name": "stdout",
          "output_type": "stream",
          "text": [
            "Epoch [10/50], Training Loss: 0.2218, Validation Loss: 0.2242\n"
          ]
        },
        {
          "metadata": {
            "tags": null
          },
          "name": "stderr",
          "output_type": "stream",
          "text": [
            "\rTraining:  22%|██▏       | 11/50 [15:31<54:57, 84.55s/it]"
          ]
        },
        {
          "metadata": {
            "tags": null
          },
          "name": "stdout",
          "output_type": "stream",
          "text": [
            "Epoch [11/50], Training Loss: 0.2169, Validation Loss: 0.2126\n"
          ]
        },
        {
          "metadata": {
            "tags": null
          },
          "name": "stderr",
          "output_type": "stream",
          "text": [
            "\rTraining:  24%|██▍       | 12/50 [16:55<53:34, 84.60s/it]"
          ]
        },
        {
          "metadata": {
            "tags": null
          },
          "name": "stdout",
          "output_type": "stream",
          "text": [
            "Epoch [12/50], Training Loss: 0.2145, Validation Loss: 0.2207\n"
          ]
        },
        {
          "metadata": {
            "tags": null
          },
          "name": "stderr",
          "output_type": "stream",
          "text": [
            "\rTraining:  26%|██▌       | 13/50 [18:20<52:14, 84.72s/it]"
          ]
        },
        {
          "metadata": {
            "tags": null
          },
          "name": "stdout",
          "output_type": "stream",
          "text": [
            "Epoch [13/50], Training Loss: 0.2094, Validation Loss: 0.2179\n"
          ]
        },
        {
          "metadata": {
            "tags": null
          },
          "name": "stderr",
          "output_type": "stream",
          "text": [
            "\rTraining:  28%|██▊       | 14/50 [19:45<50:51, 84.76s/it]"
          ]
        },
        {
          "metadata": {
            "tags": null
          },
          "name": "stdout",
          "output_type": "stream",
          "text": [
            "Epoch [14/50], Training Loss: 0.2034, Validation Loss: 0.2008\n"
          ]
        },
        {
          "metadata": {
            "tags": null
          },
          "name": "stderr",
          "output_type": "stream",
          "text": [
            "\rTraining:  30%|███       | 15/50 [21:10<49:28, 84.80s/it]"
          ]
        },
        {
          "metadata": {
            "tags": null
          },
          "name": "stdout",
          "output_type": "stream",
          "text": [
            "Epoch [15/50], Training Loss: 0.2018, Validation Loss: 0.2005\n"
          ]
        },
        {
          "metadata": {
            "tags": null
          },
          "name": "stderr",
          "output_type": "stream",
          "text": [
            "\rTraining:  32%|███▏      | 16/50 [22:35<48:04, 84.84s/it]"
          ]
        },
        {
          "metadata": {
            "tags": null
          },
          "name": "stdout",
          "output_type": "stream",
          "text": [
            "Epoch [16/50], Training Loss: 0.2012, Validation Loss: 0.2033\n"
          ]
        },
        {
          "metadata": {
            "tags": null
          },
          "name": "stderr",
          "output_type": "stream",
          "text": [
            "\rTraining:  34%|███▍      | 17/50 [24:00<46:41, 84.89s/it]"
          ]
        },
        {
          "metadata": {
            "tags": null
          },
          "name": "stdout",
          "output_type": "stream",
          "text": [
            "Epoch [17/50], Training Loss: 0.1990, Validation Loss: 0.2046\n"
          ]
        },
        {
          "metadata": {
            "tags": null
          },
          "name": "stderr",
          "output_type": "stream",
          "text": [
            "\rTraining:  36%|███▌      | 18/50 [25:25<45:17, 84.92s/it]"
          ]
        },
        {
          "metadata": {
            "tags": null
          },
          "name": "stdout",
          "output_type": "stream",
          "text": [
            "Epoch [18/50], Training Loss: 0.1956, Validation Loss: 0.1932\n"
          ]
        },
        {
          "metadata": {
            "tags": null
          },
          "name": "stderr",
          "output_type": "stream",
          "text": [
            "\rTraining:  38%|███▊      | 19/50 [26:50<43:52, 84.92s/it]"
          ]
        },
        {
          "metadata": {
            "tags": null
          },
          "name": "stdout",
          "output_type": "stream",
          "text": [
            "Epoch [19/50], Training Loss: 0.1953, Validation Loss: 0.1971\n"
          ]
        },
        {
          "metadata": {
            "tags": null
          },
          "name": "stderr",
          "output_type": "stream",
          "text": [
            "\rTraining:  40%|████      | 20/50 [28:15<42:30, 85.00s/it]"
          ]
        },
        {
          "metadata": {
            "tags": null
          },
          "name": "stdout",
          "output_type": "stream",
          "text": [
            "Epoch [20/50], Training Loss: 0.1948, Validation Loss: 0.1932\n"
          ]
        },
        {
          "metadata": {
            "tags": null
          },
          "name": "stderr",
          "output_type": "stream",
          "text": [
            "\rTraining:  42%|████▏     | 21/50 [29:40<41:06, 85.04s/it]"
          ]
        },
        {
          "metadata": {
            "tags": null
          },
          "name": "stdout",
          "output_type": "stream",
          "text": [
            "Epoch [21/50], Training Loss: 0.1922, Validation Loss: 0.1918\n"
          ]
        },
        {
          "metadata": {
            "tags": null
          },
          "name": "stderr",
          "output_type": "stream",
          "text": [
            "\rTraining:  44%|████▍     | 22/50 [31:06<39:45, 85.19s/it]"
          ]
        },
        {
          "metadata": {
            "tags": null
          },
          "name": "stdout",
          "output_type": "stream",
          "text": [
            "Epoch [22/50], Training Loss: 0.1928, Validation Loss: 0.1929\n"
          ]
        },
        {
          "metadata": {
            "tags": null
          },
          "name": "stderr",
          "output_type": "stream",
          "text": [
            "\rTraining:  46%|████▌     | 23/50 [32:31<38:20, 85.21s/it]"
          ]
        },
        {
          "metadata": {
            "tags": null
          },
          "name": "stdout",
          "output_type": "stream",
          "text": [
            "Epoch [23/50], Training Loss: 0.1917, Validation Loss: 0.1927\n"
          ]
        },
        {
          "metadata": {
            "tags": null
          },
          "name": "stderr",
          "output_type": "stream",
          "text": [
            "\rTraining:  48%|████▊     | 24/50 [33:56<36:55, 85.23s/it]"
          ]
        },
        {
          "metadata": {
            "tags": null
          },
          "name": "stdout",
          "output_type": "stream",
          "text": [
            "Epoch [24/50], Training Loss: 0.1906, Validation Loss: 0.1896\n"
          ]
        },
        {
          "metadata": {
            "tags": null
          },
          "name": "stderr",
          "output_type": "stream",
          "text": [
            "\rTraining:  50%|█████     | 25/50 [35:22<35:32, 85.31s/it]"
          ]
        },
        {
          "metadata": {
            "tags": null
          },
          "name": "stdout",
          "output_type": "stream",
          "text": [
            "Epoch [25/50], Training Loss: 0.1903, Validation Loss: 0.1920\n"
          ]
        },
        {
          "metadata": {
            "tags": null
          },
          "name": "stderr",
          "output_type": "stream",
          "text": [
            "\rTraining:  52%|█████▏    | 26/50 [36:47<34:07, 85.32s/it]"
          ]
        },
        {
          "metadata": {
            "tags": null
          },
          "name": "stdout",
          "output_type": "stream",
          "text": [
            "Epoch [26/50], Training Loss: 0.1905, Validation Loss: 0.1960\n"
          ]
        },
        {
          "metadata": {
            "tags": null
          },
          "name": "stderr",
          "output_type": "stream",
          "text": [
            "\rTraining:  54%|█████▍    | 27/50 [38:13<32:42, 85.33s/it]"
          ]
        },
        {
          "metadata": {
            "tags": null
          },
          "name": "stdout",
          "output_type": "stream",
          "text": [
            "Epoch [27/50], Training Loss: 0.1901, Validation Loss: 0.1899\n"
          ]
        },
        {
          "metadata": {
            "tags": null
          },
          "name": "stderr",
          "output_type": "stream",
          "text": [
            "\rTraining:  56%|█████▌    | 28/50 [39:38<31:17, 85.34s/it]"
          ]
        },
        {
          "metadata": {
            "tags": null
          },
          "name": "stdout",
          "output_type": "stream",
          "text": [
            "Epoch [28/50], Training Loss: 0.1897, Validation Loss: 0.1894\n"
          ]
        },
        {
          "metadata": {
            "tags": null
          },
          "name": "stderr",
          "output_type": "stream",
          "text": [
            "\rTraining:  58%|█████▊    | 29/50 [41:03<29:52, 85.34s/it]"
          ]
        },
        {
          "metadata": {
            "tags": null
          },
          "name": "stdout",
          "output_type": "stream",
          "text": [
            "Epoch [29/50], Training Loss: 0.1900, Validation Loss: 0.1890\n"
          ]
        },
        {
          "metadata": {
            "tags": null
          },
          "name": "stderr",
          "output_type": "stream",
          "text": [
            "\rTraining:  60%|██████    | 30/50 [42:29<28:28, 85.42s/it]"
          ]
        },
        {
          "metadata": {
            "tags": null
          },
          "name": "stdout",
          "output_type": "stream",
          "text": [
            "Epoch [30/50], Training Loss: 0.1891, Validation Loss: 0.1904\n"
          ]
        },
        {
          "metadata": {
            "tags": null
          },
          "name": "stderr",
          "output_type": "stream",
          "text": [
            "\rTraining:  62%|██████▏   | 31/50 [43:54<27:02, 85.40s/it]"
          ]
        },
        {
          "metadata": {
            "tags": null
          },
          "name": "stdout",
          "output_type": "stream",
          "text": [
            "Epoch [31/50], Training Loss: 0.1894, Validation Loss: 0.1900\n"
          ]
        },
        {
          "metadata": {
            "tags": null
          },
          "name": "stderr",
          "output_type": "stream",
          "text": [
            "\rTraining:  64%|██████▍   | 32/50 [45:20<25:38, 85.47s/it]"
          ]
        },
        {
          "metadata": {
            "tags": null
          },
          "name": "stdout",
          "output_type": "stream",
          "text": [
            "Epoch [32/50], Training Loss: 0.1879, Validation Loss: 0.1874\n"
          ]
        },
        {
          "output_type": "stream",
          "name": "stderr",
          "text": [
            "\rTraining:  66%|██████▌   | 33/50 [46:45<24:12, 85.44s/it]"
          ]
        },
        {
          "output_type": "stream",
          "name": "stdout",
          "text": [
            "Epoch [33/50], Training Loss: 0.1883, Validation Loss: 0.1889\n"
          ]
        },
        {
          "output_type": "stream",
          "name": "stderr",
          "text": [
            "\rTraining:  68%|██████▊   | 34/50 [48:11<22:47, 85.47s/it]"
          ]
        },
        {
          "output_type": "stream",
          "name": "stdout",
          "text": [
            "Epoch [34/50], Training Loss: 0.1878, Validation Loss: 0.1886\n"
          ]
        },
        {
          "output_type": "stream",
          "name": "stderr",
          "text": [
            "\rTraining:  70%|███████   | 35/50 [49:36<21:22, 85.50s/it]"
          ]
        },
        {
          "output_type": "stream",
          "name": "stdout",
          "text": [
            "Epoch [35/50], Training Loss: 0.1869, Validation Loss: 0.1871\n"
          ]
        },
        {
          "output_type": "stream",
          "name": "stderr",
          "text": [
            "\rTraining:  72%|███████▏  | 36/50 [51:02<19:57, 85.54s/it]"
          ]
        },
        {
          "output_type": "stream",
          "name": "stdout",
          "text": [
            "Epoch [36/50], Training Loss: 0.1877, Validation Loss: 0.1880\n"
          ]
        },
        {
          "output_type": "stream",
          "name": "stderr",
          "text": [
            "\rTraining:  74%|███████▍  | 37/50 [52:27<18:31, 85.52s/it]"
          ]
        },
        {
          "output_type": "stream",
          "name": "stdout",
          "text": [
            "Epoch [37/50], Training Loss: 0.1874, Validation Loss: 0.1899\n"
          ]
        },
        {
          "output_type": "stream",
          "name": "stderr",
          "text": [
            "\rTraining:  76%|███████▌  | 38/50 [53:53<17:06, 85.51s/it]"
          ]
        },
        {
          "output_type": "stream",
          "name": "stdout",
          "text": [
            "Epoch [38/50], Training Loss: 0.1869, Validation Loss: 0.1870\n"
          ]
        },
        {
          "output_type": "stream",
          "name": "stderr",
          "text": [
            "\rTraining:  78%|███████▊  | 39/50 [55:18<15:40, 85.50s/it]"
          ]
        },
        {
          "output_type": "stream",
          "name": "stdout",
          "text": [
            "Epoch [39/50], Training Loss: 0.1864, Validation Loss: 0.1871\n"
          ]
        },
        {
          "output_type": "stream",
          "name": "stderr",
          "text": [
            "\rTraining:  80%|████████  | 40/50 [56:44<14:15, 85.52s/it]"
          ]
        },
        {
          "output_type": "stream",
          "name": "stdout",
          "text": [
            "Epoch [40/50], Training Loss: 0.1876, Validation Loss: 0.1870\n"
          ]
        },
        {
          "output_type": "stream",
          "name": "stderr",
          "text": [
            "\rTraining:  82%|████████▏ | 41/50 [58:10<12:49, 85.55s/it]"
          ]
        },
        {
          "output_type": "stream",
          "name": "stdout",
          "text": [
            "Epoch [41/50], Training Loss: 0.1867, Validation Loss: 0.1888\n"
          ]
        },
        {
          "output_type": "stream",
          "name": "stderr",
          "text": [
            "\rTraining:  84%|████████▍ | 42/50 [59:36<11:25, 85.68s/it]"
          ]
        },
        {
          "output_type": "stream",
          "name": "stdout",
          "text": [
            "Epoch [42/50], Training Loss: 0.1868, Validation Loss: 0.1889\n"
          ]
        },
        {
          "output_type": "stream",
          "name": "stderr",
          "text": [
            "\rTraining:  86%|████████▌ | 43/50 [1:01:01<10:00, 85.73s/it]"
          ]
        },
        {
          "output_type": "stream",
          "name": "stdout",
          "text": [
            "Epoch [43/50], Training Loss: 0.1864, Validation Loss: 0.1856\n"
          ]
        },
        {
          "output_type": "stream",
          "name": "stderr",
          "text": [
            "\rTraining:  88%|████████▊ | 44/50 [1:02:27<08:34, 85.71s/it]"
          ]
        },
        {
          "output_type": "stream",
          "name": "stdout",
          "text": [
            "Epoch [44/50], Training Loss: 0.1876, Validation Loss: 0.1866\n"
          ]
        },
        {
          "output_type": "stream",
          "name": "stderr",
          "text": [
            "\rTraining:  90%|█████████ | 45/50 [1:03:53<07:08, 85.73s/it]"
          ]
        },
        {
          "output_type": "stream",
          "name": "stdout",
          "text": [
            "Epoch [45/50], Training Loss: 0.1866, Validation Loss: 0.1863\n"
          ]
        },
        {
          "output_type": "stream",
          "name": "stderr",
          "text": [
            "\rTraining:  92%|█████████▏| 46/50 [1:05:19<05:42, 85.73s/it]"
          ]
        },
        {
          "output_type": "stream",
          "name": "stdout",
          "text": [
            "Epoch [46/50], Training Loss: 0.1860, Validation Loss: 0.1872\n"
          ]
        },
        {
          "output_type": "stream",
          "name": "stderr",
          "text": [
            "\rTraining:  94%|█████████▍| 47/50 [1:06:44<04:17, 85.79s/it]"
          ]
        },
        {
          "output_type": "stream",
          "name": "stdout",
          "text": [
            "Epoch [47/50], Training Loss: 0.1878, Validation Loss: 0.1871\n"
          ]
        },
        {
          "output_type": "stream",
          "name": "stderr",
          "text": [
            "\rTraining:  96%|█████████▌| 48/50 [1:08:11<02:51, 85.88s/it]"
          ]
        },
        {
          "output_type": "stream",
          "name": "stdout",
          "text": [
            "Epoch [48/50], Training Loss: 0.1875, Validation Loss: 0.1882\n"
          ]
        },
        {
          "output_type": "stream",
          "name": "stderr",
          "text": [
            "\rTraining:  98%|█████████▊| 49/50 [1:09:36<01:25, 85.89s/it]"
          ]
        },
        {
          "output_type": "stream",
          "name": "stdout",
          "text": [
            "Epoch [49/50], Training Loss: 0.1870, Validation Loss: 0.1869\n"
          ]
        },
        {
          "output_type": "stream",
          "name": "stderr",
          "text": [
            "Training: 100%|██████████| 50/50 [1:11:03<00:00, 85.26s/it]"
          ]
        },
        {
          "output_type": "stream",
          "name": "stdout",
          "text": [
            "Epoch [50/50], Training Loss: 0.1873, Validation Loss: 0.1870\n"
          ]
        },
        {
          "output_type": "stream",
          "name": "stderr",
          "text": [
            "\n"
          ]
        }
      ],
      "source": [
        "# Define the gradient scaler for mixed precision\n",
        "scaler = GradScaler(device='cuda')\n",
        "\n",
        "def has_nan_or_inf(tensor, name=\"Tensor\"):\n",
        "    if torch.isnan(tensor).any():\n",
        "        print(f\"{name} contains NaN.\")\n",
        "        return True\n",
        "    if torch.isinf(tensor).any():\n",
        "        print(f\"{name} contains Inf.\")\n",
        "        return True\n",
        "    return False\n",
        "\n",
        "def add_noise_batch(images, sigma, noise_mean=0, noise_std=1):\n",
        "    epsilon = torch.randn_like(images) * noise_std + noise_mean\n",
        "    noisy_images = images + sigma.view(-1, 1, 1, 1) * epsilon\n",
        "    return torch.clamp(noisy_images, -1, 1)\n",
        "\n",
        "eta = 0.005\n",
        "image_channels = 1  # FashionMNIST images have 1 channel\n",
        "nb_channels = 128  # Number of channels\n",
        "num_blocks = 8  # Number of residual blocks\n",
        "cond_channels = 64  # Number of conditioning channels\n",
        "model = Model(image_channels, nb_channels, num_blocks, cond_channels).to(device)\n",
        "\n",
        "# Define the loss function and optimizer\n",
        "criterion = nn.MSELoss()\n",
        "optimizer = torch.optim.Adam(model.parameters(), lr=eta)\n",
        "scheduler = torch.optim.lr_scheduler.ReduceLROnPlateau(optimizer, 'min', patience=1, factor=0.5)\n",
        "\n",
        "# Training loop with mixed precision\n",
        "nb_epochs = 50\n",
        "torch.autograd.set_detect_anomaly(False)\n",
        "\n",
        "for epoch in tqdm(range(nb_epochs), desc=\"Training\"):\n",
        "    # --- Training Phase ---\n",
        "    model.train()\n",
        "    total_train_loss = 0\n",
        "    for images, _ in train_dl:\n",
        "        images = images.to(device)  # Move images to GPU\n",
        "        batch_size = images.size(0)\n",
        "\n",
        "        # Sample sigma per image\n",
        "        sigma = sample_sigma(batch_size).to(device)\n",
        "        noised_images = add_noise_batch(images, sigma)\n",
        "\n",
        "        # Compute coefficients\n",
        "        c_in_values = c_in(sigma).view(-1, 1, 1, 1)\n",
        "        c_out_values = c_out(sigma).view(-1, 1, 1, 1)\n",
        "        c_skip_values = c_skip(sigma).view(-1, 1, 1, 1)\n",
        "        c_noise_values = c_noise(sigma)\n",
        "\n",
        "        # Prepare inputs and targets\n",
        "        x_batch = noised_images * c_in_values\n",
        "        t_batch = (images - c_skip_values * noised_images) / c_out_values\n",
        "\n",
        "        # Zero the gradients\n",
        "        optimizer.zero_grad()\n",
        "\n",
        "        # Forward and backward passes with mixed precision\n",
        "        with autocast(device_type='cuda'):  # Enable mixed precision for this block\n",
        "            output = model(x_batch, c_noise_values)\n",
        "            loss = criterion(output, t_batch)\n",
        "\n",
        "        # Scale the loss for mixed precision\n",
        "        scaler.scale(loss).backward()\n",
        "\n",
        "        # Update weights using scaled gradients\n",
        "        scaler.step(optimizer)\n",
        "\n",
        "        # Update the scale for the next iteration\n",
        "        scaler.update()\n",
        "\n",
        "        # Accumulate training loss\n",
        "        total_train_loss += loss.item()\n",
        "\n",
        "    avg_train_loss = total_train_loss / len(train_dl)\n",
        "\n",
        "    # --- Validation Phase ---\n",
        "    model.eval()\n",
        "    total_val_loss = 0\n",
        "    with torch.no_grad():\n",
        "        for images, _ in test_dl:\n",
        "            images = images.to(device)  # Move images to GPU\n",
        "            batch_size = images.size(0)\n",
        "\n",
        "            # Sample sigma per image\n",
        "            sigma = sample_sigma(batch_size).to(device)\n",
        "            noised_images = add_noise_batch(images, sigma)\n",
        "\n",
        "            # Compute coefficients\n",
        "            c_in_values = c_in(sigma).view(-1, 1, 1, 1)\n",
        "            c_out_values = c_out(sigma).view(-1, 1, 1, 1)\n",
        "            c_skip_values = c_skip(sigma).view(-1, 1, 1, 1)\n",
        "            c_noise_values = c_noise(sigma)\n",
        "\n",
        "            # Prepare inputs and targets\n",
        "            x_batch = noised_images * c_in_values\n",
        "            t_batch = (images - c_skip_values * noised_images) / c_out_values\n",
        "\n",
        "            # Forward pass with mixed precision\n",
        "            with autocast(device_type='cuda'):  # Enable mixed precision for this block\n",
        "                output = model(x_batch, c_noise_values)\n",
        "                loss = criterion(output, t_batch)\n",
        "\n",
        "            # Accumulate validation loss\n",
        "            total_val_loss += loss.item()\n",
        "\n",
        "    avg_val_loss = total_val_loss / len(test_dl)\n",
        "\n",
        "    # Update the scheduler based on validation loss\n",
        "    scheduler.step(avg_val_loss)\n",
        "\n",
        "    print(f\"Epoch [{epoch+1}/{nb_epochs}], Training Loss: {avg_train_loss:.4f}, Validation Loss: {avg_val_loss:.4f}\")\n"
      ]
    },
    {
      "cell_type": "code",
      "execution_count": 6,
      "metadata": {
        "id": "ZTdlrXQdF1ZW",
        "colab": {
          "base_uri": "https://localhost:8080/",
          "height": 929
        },
        "outputId": "d69cd7a3-e008-4ed4-9b76-9397f1fd7221"
      },
      "outputs": [
        {
          "output_type": "stream",
          "name": "stderr",
          "text": [
            "/usr/local/lib/python3.10/dist-packages/torchvision/models/_utils.py:208: UserWarning: The parameter 'pretrained' is deprecated since 0.13 and may be removed in the future, please use 'weights' instead.\n",
            "  warnings.warn(\n",
            "/usr/local/lib/python3.10/dist-packages/torchvision/models/_utils.py:223: UserWarning: Arguments other than a weight enum or `None` for 'weights' are deprecated since 0.13 and may be removed in the future. The current behavior is equivalent to passing `weights=Inception_V3_Weights.IMAGENET1K_V1`. You can also use `weights=Inception_V3_Weights.DEFAULT` to get the most up-to-date weights.\n",
            "  warnings.warn(msg)\n",
            "Generating Images: 100%|██████████| 20/20 [00:47<00:00,  2.35s/it]\n"
          ]
        },
        {
          "output_type": "stream",
          "name": "stdout",
          "text": [
            "FID score: 145.0048502717662\n"
          ]
        },
        {
          "output_type": "display_data",
          "data": {
            "text/plain": [
              "<Figure size 2000x1000 with 30 Axes>"
            ],
            "image/png": "[encoded data removed]"
          },
          "metadata": {}
        }
      ],
      "source": [
        "# Step 1: Set up InceptionV3 model\n",
        "# Load pre-trained InceptionV3 model\n",
        "inception_model = inception_v3(pretrained=True, transform_input=False).to(device)\n",
        "inception_model.fc = nn.Identity()  # Remove the final classification layer\n",
        "inception_model.eval()  # Set the model to evaluation mode\n",
        "\n",
        "# Define a transformation to convert 1-channel to 3-channel and resize to 299x299\n",
        "preprocess = T.Compose([\n",
        "    T.Resize((299, 299)),\n",
        "    T.Lambda(lambda x: x.repeat(1, 3, 1, 1) if x.size(1) == 1 else x),  # Ensure 3 channels\n",
        "    T.Normalize(mean=[0.485, 0.456, 0.406],\n",
        "                std=[0.229, 0.224, 0.225]),\n",
        "])\n",
        "\n",
        "def get_inception_features(images, model, device, preprocess, batch_size=50):\n",
        "    \"\"\"\n",
        "    Extract features from images using the InceptionV3 model.\n",
        "\n",
        "    Args:\n",
        "        images (torch.Tensor): Tensor of images with shape (N, C, H, W).\n",
        "        model (nn.Module): Pretrained InceptionV3 model.\n",
        "        device (torch.device): Computing device.\n",
        "        preprocess (callable): Preprocessing function.\n",
        "        batch_size (int): Batch size for processing images.\n",
        "\n",
        "    Returns:\n",
        "        np.ndarray: Extracted features of shape (N, feature_dim).\n",
        "    \"\"\"\n",
        "    features = []\n",
        "    with torch.no_grad():\n",
        "        for i in range(0, len(images), batch_size):\n",
        "            batch = images[i:i+batch_size].to(device)\n",
        "            # Convert from [-1, 1] to [0, 1]\n",
        "            batch = (batch + 1) / 2\n",
        "            batch = preprocess(batch)\n",
        "            outputs = model(batch)\n",
        "            features.append(outputs.cpu().numpy())\n",
        "    features = np.concatenate(features, axis=0)\n",
        "    return features\n",
        "\n",
        "def calculate_frechet_distance(mu1, sigma1, mu2, sigma2):\n",
        "    \"\"\"Calculate the Frechet Distance between two multivariate Gaussians.\"\"\"\n",
        "    diff = mu1 - mu2\n",
        "    covmean = sqrtm(sigma1 @ sigma2)\n",
        "    if np.iscomplexobj(covmean):\n",
        "        covmean = covmean.real\n",
        "    fid = np.sum(diff ** 2) + np.trace(sigma1 + sigma2 - 2 * covmean)\n",
        "    return fid\n",
        "\n",
        "\n",
        "# Testing loop\n",
        "model.eval()\n",
        "\n",
        "def sample_initial_noise(shape, sigma):\n",
        "    return torch.randn(shape, device=sigma.device) * sigma\n",
        "\n",
        "def build_sigma_schedule(steps, rho=7, sigma_min=2e-3, sigma_max=80):\n",
        "    min_inv_rho = sigma_min ** (1 / rho)\n",
        "    max_inv_rho = sigma_max ** (1 / rho)\n",
        "    sigmas = (max_inv_rho + torch.linspace(0, 1, steps) * (min_inv_rho - max_inv_rho)) ** rho\n",
        "    return sigmas\n",
        "\n",
        "# Create a sequence of decreasing sigmas\n",
        "sigmas = build_sigma_schedule(steps=50).to(device)\n",
        "\n",
        "# Sample initial Gaussian noise with standard deviation sigmas[0]\n",
        "initial_sigma = sigmas[0]\n",
        "initial_noise = sample_initial_noise((5, 1, 28, 28), initial_sigma).to(device)  # Batch of 5 images\n",
        "\n",
        "# Define the denoising function using Euler's method\n",
        "def D(x, sigma):\n",
        "    c_skip_sigma = c_skip(sigma).view(-1, 1, 1, 1)\n",
        "    c_out_sigma = c_out(sigma).view(-1, 1, 1, 1)\n",
        "    c_in_sigma = c_in(sigma).view(-1, 1, 1, 1)\n",
        "    c_noise_sigma = c_noise(sigma)  # [batch_size]\n",
        "    return c_skip_sigma * x + c_out_sigma * model(c_in_sigma * x, c_noise_sigma)\n",
        "\n",
        "sigmas = build_sigma_schedule(50).to(device)  # Ensure sigmas are on GPU\n",
        "\n",
        "def euler_step(x, sigmas, save_steps=None):\n",
        "    batch_size = x.size(0)\n",
        "    intermediate_images = [[] for _ in range(batch_size)]  # List of lists to store intermediate images for each image\n",
        "    for i, sigma in enumerate(sigmas):\n",
        "        sigma = sigma.to(x.device)\n",
        "        sigma = sigma.expand(batch_size)  # Shape: [batch_size]\n",
        "        with torch.no_grad():\n",
        "            x_denoised = D(x, sigma)\n",
        "\n",
        "        if i < len(sigmas) - 1:\n",
        "            sigma_next = sigmas[i + 1].to(x.device)\n",
        "            sigma_next = sigma_next.expand(batch_size)\n",
        "        else:\n",
        "            sigma_next = torch.full((batch_size,), 2e-3, device=x.device)  # sigma_min\n",
        "\n",
        "        d = (x - x_denoised) / (sigma.view(-1, 1, 1, 1))\n",
        "\n",
        "        sigma_diff = (sigma_next - sigma).view(-1, 1, 1, 1)\n",
        "        x = x + d * sigma_diff\n",
        "\n",
        "        # Save intermediate images if specified\n",
        "        if save_steps and i in save_steps:\n",
        "            for j in range(batch_size):\n",
        "                intermediate_images[j].append(x[j].clone().cpu())\n",
        "\n",
        "    return x, intermediate_images\n",
        "\n",
        "def generate_images(sigmas, num_images=1000, batch_size=50, save_steps=None):\n",
        "    \"\"\"\n",
        "    Generate a specified number of images using the diffusion model.\n",
        "\n",
        "    Args:\n",
        "        sigmas (torch.Tensor): Schedule of sigma values.\n",
        "        num_images (int): Total number of images to generate.\n",
        "        batch_size (int): Number of images per batch.\n",
        "        save_steps (list, optional): Steps at which to save intermediate images.\n",
        "\n",
        "    Returns:\n",
        "        torch.Tensor: Generated images with shape [num_images, 1, 28, 28].\n",
        "    \"\"\"\n",
        "    model.eval()\n",
        "    generated_images = []\n",
        "    num_batches = num_images // batch_size\n",
        "    for _ in tqdm(range(num_batches), desc=\"Generating Images\"):\n",
        "        initial_sigma = sigmas[0]\n",
        "        initial_noise = sample_initial_noise((batch_size, 1, 28, 28), initial_sigma).to(device)\n",
        "        denoised_batch, _ = euler_step(initial_noise, sigmas, save_steps=save_steps)\n",
        "        generated_images.append(denoised_batch.cpu())\n",
        "    return torch.cat(generated_images, dim=0)  # Shape: [num_images, 1, 28, 28]\n",
        "\n",
        "def get_real_images(train_loader, num_images=1000):\n",
        "    \"\"\"\n",
        "    Extract a subset of real images from the training loader.\n",
        "\n",
        "    Args:\n",
        "        train_loader (DataLoader): DataLoader for the training dataset.\n",
        "        num_images (int): Number of real images to extract.\n",
        "\n",
        "    Returns:\n",
        "        torch.Tensor: Real images with shape [num_images, 1, 28, 28].\n",
        "    \"\"\"\n",
        "    real_images = []\n",
        "    for batch in train_loader:\n",
        "        images, _ = batch\n",
        "        real_images.append(images)\n",
        "        if len(torch.cat(real_images, dim=0)) >= num_images:\n",
        "            break\n",
        "    real_images = torch.cat(real_images, dim=0)[:num_images]\n",
        "    return real_images\n",
        "\n",
        "# Extract real images using your existing DataLoader 'train_dl'\n",
        "real_images = get_real_images(train_dl, num_images=1000).to(device)  # Shape: [1000, 1, 28, 28]\n",
        "\n",
        "# Generate images using your existing variables\n",
        "generated_images = generate_images(sigmas,num_images=1000, batch_size=50, save_steps=None)  # Shape: [1000, 1, 28, 28]\n",
        "\n",
        "# Convert images from [-1, 1] to [0, 1]\n",
        "real_images = (real_images + 1) / 2\n",
        "generated_images = (generated_images + 1) / 2\n",
        "\n",
        "# Extract Inception features for real and generated images\n",
        "real_features = get_inception_features(real_images, inception_model, device, preprocess, batch_size=50)  # Shape: [1000, D]\n",
        "generated_features = get_inception_features(generated_images, inception_model, device, preprocess, batch_size=50)  # Shape: [1000, D]\n",
        "\n",
        "# Compute statistics\n",
        "mu_real = np.mean(real_features, axis=0)\n",
        "sigma_real = np.cov(real_features, rowvar=False)\n",
        "mu_gen = np.mean(generated_features, axis=0)\n",
        "sigma_gen = np.cov(generated_features, rowvar=False)\n",
        "\n",
        "# Compute FID score\n",
        "fid_score = calculate_frechet_distance(mu_real, sigma_real, mu_gen, sigma_gen)\n",
        "print(f'FID score: {fid_score}')\n",
        "# Apply the denoising network iteratively using Euler's method\n",
        "save_steps = [0, 10, 20, 30, 40, 49]  # Specify steps to save intermediate images\n",
        "_, intermediate_images = euler_step(initial_noise, sigmas, save_steps=save_steps)\n",
        "\n",
        "# Visualize the intermediate denoising process for 5 different images\n",
        "fig, axes = plt.subplots(5, len(save_steps), figsize=(20, 10))\n",
        "for i in range(5):\n",
        "    for j, step in enumerate(save_steps):\n",
        "        axes[i, j].imshow(intermediate_images[i][j].squeeze().numpy(), cmap='gray')\n",
        "        if i == 0:\n",
        "            axes[i, j].set_title(f\"Step {step}\")\n",
        "        axes[i, j].axis('off')\n",
        "\n",
        "plt.tight_layout()\n",
        "plt.show()"
      ]
    }
  ],
  "metadata": {
    "kernelspec": {
      "display_name": "Python 3",
      "name": "python3"
    },
    "language_info": {
      "codemirror_mode": {
        "name": "ipython",
        "version": 3
      },
      "file_extension": ".py",
      "mimetype": "text/x-python",
      "name": "python",
      "nbconvert_exporter": "python",
      "pygments_lexer": "ipython3",
      "version": "3.11.9"
    },
    "colab": {
      "provenance": [],
      "gpuType": "T4"
    },
    "accelerator": "GPU"
  },
  "nbformat": 4,
  "nbformat_minor": 0
}